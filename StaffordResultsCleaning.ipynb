{
 "metadata": {
  "language_info": {
   "codemirror_mode": {
    "name": "ipython",
    "version": 3
   },
   "file_extension": ".py",
   "mimetype": "text/x-python",
   "name": "python",
   "nbconvert_exporter": "python",
   "pygments_lexer": "ipython3",
   "version": "3.7.6-final"
  },
  "orig_nbformat": 2,
  "kernelspec": {
   "name": "python_defaultSpec_1599572750807",
   "display_name": "Python 3.7.6 64-bit ('base': conda)"
  }
 },
 "nbformat": 4,
 "nbformat_minor": 2,
 "cells": [
  {
   "cell_type": "markdown",
   "metadata": {},
   "source": [
    "# Stafford Motor Speedway SK Modified Feature Race Results Cleaned and Formatted for the 2016-2020 (September 4th, 2020) Seasons"
   ]
  },
  {
   "cell_type": "code",
   "execution_count": 1,
   "metadata": {},
   "outputs": [],
   "source": [
    "#Import dependencies\n",
    "\n",
    "import requests\n",
    "import bs4\n",
    "import pandas as pd\n",
    "import os\n",
    "import math\n",
    "import pickle\n",
    "\n",
    "# from datetime import datetime\n",
    "# import re\n",
    "# import tweepy\n",
    "# import time"
   ]
  },
  {
   "cell_type": "markdown",
   "metadata": {},
   "source": [
    "# URLS for Archive pages of race result postings"
   ]
  },
  {
   "cell_type": "code",
   "execution_count": 2,
   "metadata": {},
   "outputs": [],
   "source": [
    "# Sk Modified Feature Results by year\n",
    "\n",
    "results_2020 = \"https://staffordmotorspeedway.com/category/results/2020-sk-modified-results/\"\n",
    "results_2020_2 = \"https://staffordmotorspeedway.com/category/results/2020-sk-modified-results/page/2/\"\n",
    "\n",
    "results_2019 = \"https://staffordmotorspeedway.com/category/results/2019-sk-modified-results/\"\n",
    "results_2019_2 = \"https://staffordmotorspeedway.com/category/results/2019-sk-modified-results/page/2/\"\n",
    "results_2019_3 = \"https://staffordmotorspeedway.com/category/results/2019-sk-modified-results/page/3/\"\n",
    "\n",
    "results_2018 = \"https://staffordmotorspeedway.com/category/results/2018-sk-modified-results/\"\n",
    "results_2018_2 = \"https://staffordmotorspeedway.com/category/results/2018-sk-modified-results/page/2/\"\n",
    "results_2018_3 = \"https://staffordmotorspeedway.com/category/results/2018-sk-modified-results/page/3/\"\n",
    "\n",
    "results_2017 = \"https://staffordmotorspeedway.com/category/results/2017-sk-modified-results/\"\n",
    "results_2017_2 = \"https://staffordmotorspeedway.com/category/results/2017-sk-modified-results/page/2/\"\n",
    "\n",
    "results_2016 = \"https://staffordmotorspeedway.com/category/results/2016-sk-modified-results/\"\n",
    "results_2016_2 = \"https://staffordmotorspeedway.com/category/results/sk-modified-results/2016-sk-modified-results/page/2/\"\n",
    "\n",
    "\n",
    "# Race Result URLs in List\n",
    "results_list_2016 = (results_2016, results_2016_2)\n",
    "\n",
    "results_list_2017 = (results_2017, results_2017_2)\n",
    "\n",
    "results_list_2018 = (results_2018, results_2018_2, results_2018_3)\n",
    "\n",
    "results_list_2019 = (results_2019, results_2019_2, results_2019_3)\n",
    "\n",
    "results_list_2020 = (results_2020, results_2020_2)\n",
    "\n",
    "results_list_years = (results_list_2016, results_list_2017, results_list_2018, results_list_2019, results_list_2020)\n"
   ]
  },
  {
   "cell_type": "markdown",
   "metadata": {},
   "source": [
    "## Getting each individual race URL and Title\n",
    "- doing each year seperately for easier cleaning later on"
   ]
  },
  {
   "cell_type": "code",
   "execution_count": 3,
   "metadata": {
    "tags": []
   },
   "outputs": [],
   "source": [
    "url2016 = []\n",
    "url2017 = []\n",
    "url2018 = []\n",
    "url2019 = []\n",
    "url2020 = []\n",
    "\n",
    "# Getting Page of all Race Results\n",
    "for year in results_list_years:\n",
    "    for link in year:\n",
    "        archivePage = requests.get(link)\n",
    "        archiveSoup = bs4.BeautifulSoup(archivePage.text, \"html.parser\")\n",
    "        resultsHTML = archiveSoup.find_all(itemprop=\"url\")\n",
    "        # print(resultsHTML)\n",
    "\n",
    "        for i in resultsHTML:\n",
    "            if year == results_list_2016:\n",
    "                url2016.append(i)\n",
    "                # print(i['href'])\n",
    "            elif year == results_list_2017:\n",
    "                url2017.append(i)\n",
    "            elif year == results_list_2018:\n",
    "                url2018.append(i)\n",
    "            elif year == results_list_2019:\n",
    "                url2019.append(i)\n",
    "            elif year == results_list_2020:\n",
    "                url2020.append(i)\n",
    "            else:\n",
    "                print('year not in list')"
   ]
  },
  {
   "cell_type": "code",
   "execution_count": 4,
   "metadata": {
    "tags": []
   },
   "outputs": [
    {
     "output_type": "stream",
     "name": "stdout",
     "text": "86\n"
    }
   ],
   "source": [
    "url_list = [url2016, url2017, url2018, url2019, url2020]\n",
    "\n",
    "# Check total num of races is correct\n",
    "raceCount = 0\n",
    "for year in url_list:\n",
    "    raceCount = raceCount + len(year)\n",
    "print(raceCount) # 86 as of 9-4-2020"
   ]
  },
  {
   "cell_type": "markdown",
   "metadata": {},
   "source": [
    "### Save Race URLS to pickle files"
   ]
  },
  {
   "cell_type": "code",
   "execution_count": 5,
   "metadata": {
    "tags": []
   },
   "outputs": [],
   "source": [
    "# # Fix recursion limit\n",
    "# import sys\n",
    "# sys.setrecursionlimit(10000)\n",
    "\n",
    "# object_pi = math.pi\n",
    "\n",
    "# for year in race_urls_list:\n",
    "#     if year == race_urls_2016:\n",
    "#         file_pi = open('url_2016.pickle', 'wb') \n",
    "#         pickle.dump(race_urls_2016, file_pi)\n",
    "#     elif year == race_urls_2017:\n",
    "#         object_pi = math.pi\n",
    "#         file_pi = open('race_url_2017.pickle', 'wb') \n",
    "#         pickle.dump(race_urls_2017, file_pi)\n",
    "#     elif year == race_urls_2018:\n",
    "#         file_pi = open('race_url_2018.pickle', 'wb') \n",
    "#         pickle.dump(race_urls_2018, file_pi)\n",
    "#     elif year == race_urls_2019:\n",
    "#         file_pi = open('race_url_2019.pickle', 'wb') \n",
    "#         pickle.dump(race_urls_2019, file_pi)\n",
    "#     elif year == race_urls_2020:\n",
    "#         file_pi = open('race_url_2020.pickle', 'wb') \n",
    "#         pickle.dump(race_urls_2020, file_pi)\n",
    "#     else:\n",
    "#         print('error')"
   ]
  },
  {
   "cell_type": "markdown",
   "metadata": {},
   "source": [
    "### Reading in Pickle Files\n",
    "- 86 total races from 2016-2020 (up to 9-4-2020)\n",
    "- 2017 september 15th race results missing...manually added later"
   ]
  },
  {
   "cell_type": "code",
   "execution_count": 6,
   "metadata": {
    "tags": []
   },
   "outputs": [],
   "source": [
    "# for year in race_urls_list:\n",
    "#     if year == race_urls_2016:\n",
    "#         file_pi = open('race_url_2016.pickle', 'rb') \n",
    "#         url2016 = pickle.load(file_pi)\n",
    "#     elif year == race_urls_2017:\n",
    "#         file_pi = open('race_url_2017.pickle', 'rb') \n",
    "#         url2017 = pickle.load(file_pi)\n",
    "#     elif year == race_urls_2018:\n",
    "#         file_pi = open('race_url_2018.pickle', 'rb') \n",
    "#         url2018 = pickle.load(file_pi)\n",
    "#     elif year == race_urls_2019:\n",
    "#         file_pi = open('race_url_2019.pickle', 'rb') \n",
    "#         url2019 = pickle.load(file_pi)\n",
    "#     elif year == race_urls_2020:\n",
    "#         file_pi = open('race_url_2020.pickle', 'rb') \n",
    "#         url2020 = pickle.load(file_pi)\n",
    "#     else:\n",
    "#         print('error')"
   ]
  },
  {
   "cell_type": "code",
   "execution_count": 7,
   "metadata": {},
   "outputs": [],
   "source": [
    "# List of race URLs miss the 3 being added later from 2017\n",
    "url_list = (url2016, url2017[3:], url2018, url2019, url2020)"
   ]
  },
  {
   "cell_type": "markdown",
   "metadata": {},
   "source": [
    "# Getting race Results from URLS"
   ]
  },
  {
   "cell_type": "code",
   "execution_count": 8,
   "metadata": {
    "tags": []
   },
   "outputs": [],
   "source": [
    "count = 0\n",
    "for year in url_list:\n",
    "    count += 1\n",
    "    # Initialize dataframe\n",
    "    df = pd.DataFrame()\n",
    "    # Initialize lists\n",
    "    A = []\n",
    "    B = []\n",
    "    C = []\n",
    "    D = []\n",
    "\n",
    "    for i in year:\n",
    "        # print(i['href'])\n",
    "        resultsURL = i['href']\n",
    "        title = i.string\n",
    "\n",
    "        # Use most recent race URL to see results of race\n",
    "        resultsPage = requests.get(resultsURL)\n",
    "        resultsSoup = bs4.BeautifulSoup(resultsPage.text, \"html.parser\")\n",
    "        resultsData = resultsSoup.find(class_= \"row-hover\")\n",
    "        if count == 1:\n",
    "            for row in resultsData.findAll(\"tr\"):\n",
    "                cells = row.findAll('td')\n",
    "                A.append(cells[0].find(text=True))\n",
    "                B.append(0)\n",
    "                C.append(cells[1].find(text=True))\n",
    "                D.append(title.string)\n",
    "        else:\n",
    "            for row in resultsData.findAll(\"tr\"):\n",
    "                cells = row.findAll('td')\n",
    "                # drivers = row.findAll('th')\n",
    "                A.append(cells[0].find(text=True))\n",
    "                B.append(cells[1].find(text=True))\n",
    "                C.append(cells[2].find(text=True))\n",
    "                D.append(title.string)\n",
    "\n",
    "    # Convert Lists to DataFrame\n",
    "    df['Title'] = D\n",
    "    df['Finish'] = A\n",
    "    df['Start'] = B\n",
    "    df['Driver'] = C\n",
    "\n",
    "    if count == 1:\n",
    "        df2016 = df\n",
    "    elif count == 2:\n",
    "        df2017 = df\n",
    "    elif count == 3:\n",
    "        df2018 = df\n",
    "    elif count == 4:\n",
    "        df2019 = df\n",
    "    elif count == 5:\n",
    "        df2020 = df\n",
    "    else:\n",
    "        print('error')\n",
    "        \n",
    "# df.head()\n",
    "# df.tail()"
   ]
  },
  {
   "cell_type": "code",
   "execution_count": 9,
   "metadata": {
    "tags": []
   },
   "outputs": [
    {
     "output_type": "stream",
     "name": "stdout",
     "text": "1959\n"
    }
   ],
   "source": [
    "dfsum = len(df2016) + len(df2017) + len(df2018) + len(df2019) + len(df2020)\n",
    "print(dfsum)"
   ]
  },
  {
   "cell_type": "code",
   "execution_count": 10,
   "metadata": {
    "tags": []
   },
   "outputs": [],
   "source": [
    "# df2016.info()\n",
    "# df2017.info()\n",
    "# df2018.info()\n",
    "# df2019.info()\n",
    "# df2020.info()"
   ]
  },
  {
   "cell_type": "markdown",
   "metadata": {},
   "source": [
    "## Fill in missing 3 races from 2017"
   ]
  },
  {
   "cell_type": "markdown",
   "metadata": {},
   "source": [
    "#### Getting results from website for 2/3 races\n",
    "- 2017 Napa Fall Final\n",
    "- 2017 September 17"
   ]
  },
  {
   "cell_type": "code",
   "execution_count": 11,
   "metadata": {},
   "outputs": [],
   "source": [
    "links = ['https://staffordmotorspeedway.com/2017-napa-fall-final-sk-modified-feature-results/', 'https://staffordmotorspeedway.com/september-22-2017-sk-modified-feature-results/', ]\n",
    "\n",
    "count = 0\n",
    "for url in links:\n",
    "    count += 1\n",
    "    # Initialize dataframe\n",
    "    df = pd.DataFrame()\n",
    "    # Initialize lists\n",
    "    A = []\n",
    "    B = []\n",
    "    C = []\n",
    "    D = []\n",
    "\n",
    "    resultsPage = requests.get(url)\n",
    "    resultsSoup = bs4.BeautifulSoup(resultsPage.text, \"html.parser\")\n",
    "    resultsData = resultsSoup.find(class_= \"row-hover\")\n",
    "\n",
    "    for row in resultsData.findAll(\"tr\"):\n",
    "        cells = row.findAll('td')\n",
    "        # drivers = row.findAll('th')\n",
    "        A.append(cells[0].find(text=True))\n",
    "        B.append(cells[1].find(text=True))\n",
    "        C.append(cells[2].find(text=True))\n",
    "        if count == 1:\n",
    "            D.append('October 1, 2017 NAPA Fall Final SK Modified® Feature Results')\n",
    "        elif count == 2:\n",
    "            D.append('September 22, 2017 SK Modified® Feature Results')\n",
    "        else:\n",
    "            print('error 1')\n",
    "\n",
    "    # Convert Lists to DataFrame\n",
    "    df['Title'] = D\n",
    "    df['Finish'] = A\n",
    "    df['Start'] = B\n",
    "    df['Driver'] = C\n",
    "\n",
    "    # Create Dataframe for race data and append to 2017 df\n",
    "    if count == 1:\n",
    "        df2017_final = df\n",
    "        df2017 = df2017.append(df2017_final)\n",
    "    elif count == 2:\n",
    "        df2017_sep22 = df\n",
    "        df2017 = df2017.append(df2017_sep22)\n",
    "    else:\n",
    "        print('error 2')"
   ]
  },
  {
   "cell_type": "code",
   "execution_count": 12,
   "metadata": {
    "tags": []
   },
   "outputs": [
    {
     "output_type": "stream",
     "name": "stdout",
     "text": "<class 'pandas.core.frame.DataFrame'>\nRangeIndex: 24 entries, 0 to 23\nData columns (total 4 columns):\n #   Column  Non-Null Count  Dtype \n---  ------  --------------  ----- \n 0   Title   24 non-null     object\n 1   Finish  24 non-null     object\n 2   Start   24 non-null     object\n 3   Driver  24 non-null     object\ndtypes: object(4)\nmemory usage: 896.0+ bytes\n<class 'pandas.core.frame.DataFrame'>\nRangeIndex: 21 entries, 0 to 20\nData columns (total 4 columns):\n #   Column  Non-Null Count  Dtype \n---  ------  --------------  ----- \n 0   Title   21 non-null     object\n 1   Finish  21 non-null     object\n 2   Start   21 non-null     object\n 3   Driver  21 non-null     object\ndtypes: object(4)\nmemory usage: 800.0+ bytes\n"
    }
   ],
   "source": [
    "df2017_final.info()\n",
    "df2017_sep22.info()\n",
    "# df2017_final\n",
    "# df2017_sep22"
   ]
  },
  {
   "cell_type": "markdown",
   "metadata": {},
   "source": [
    "#### Manually Entering Results for last missing race\n",
    "- September 15 2017"
   ]
  },
  {
   "cell_type": "code",
   "execution_count": 13,
   "metadata": {},
   "outputs": [],
   "source": [
    "# Manually Adding September 15th\n",
    "final = [[1,'Matt Galko'], [2,'Chase Dowling'], [3,'Ryan Preece'], [4,'Ted Christopher'], [5,'Glen Reen'], [6,'Tom Bolles'],\n",
    "        [7,'Rowan Pennink'], [8,'Michael Gervais Jr.'], [9,'Keith Rocco'], [10,'Michael Chistopher Jr.'], [11,'Joey Ciprianno'],\n",
    "        [12,'Josh Wood'], [13,'Ronnie Williams'], [14,'Cam Mcdermott'], [15,'Dan Avery'], [16,'Tyler Hines'],\n",
    "        [17,'Tommy Membrino Jr.'], [18,'Stephen Kopcik'], [19,'Eric Berndt'], [20,'Nick Salva'], [21,'Todd Owen'],\n",
    "        [22,'Tony Membrino Jr.'], [23,'DJ Burnham'], [24,'Joey Mucciacchairo Jr.'], [25,'Payton Henry'], [26,'John Cantana']]\n",
    "\n",
    "# Initializing Lists\n",
    "A = []\n",
    "B = []\n",
    "C = []\n",
    "D = []\n",
    "\n",
    "for start, driver in final:\n",
    "    A.append(start)\n",
    "    B.append(0)\n",
    "    C.append(driver)\n",
    "    D.append('September 15, 2017 SK Modified® Feature Results')\n",
    "\n",
    "# Initialize dataframe\n",
    "df2017_sep15 = pd.DataFrame()\n",
    "\n",
    "# Convert Lists to DataFrame\n",
    "df2017_sep15['Title'] = D\n",
    "df2017_sep15['Finish'] = A\n",
    "df2017_sep15['Start'] = B\n",
    "df2017_sep15['Driver'] = C\n",
    "\n",
    "# Append Sep 15 2017 Race data to 2017 df\n",
    "df2017 = df2017.append(df2017_sep15)\n"
   ]
  },
  {
   "cell_type": "code",
   "execution_count": 14,
   "metadata": {
    "tags": []
   },
   "outputs": [
    {
     "output_type": "stream",
     "name": "stdout",
     "text": "<class 'pandas.core.frame.DataFrame'>\nRangeIndex: 26 entries, 0 to 25\nData columns (total 4 columns):\n #   Column  Non-Null Count  Dtype \n---  ------  --------------  ----- \n 0   Title   26 non-null     object\n 1   Finish  26 non-null     int64 \n 2   Start   26 non-null     int64 \n 3   Driver  26 non-null     object\ndtypes: int64(2), object(2)\nmemory usage: 960.0+ bytes\n<class 'pandas.core.frame.DataFrame'>\nInt64Index: 395 entries, 0 to 25\nData columns (total 4 columns):\n #   Column  Non-Null Count  Dtype \n---  ------  --------------  ----- \n 0   Title   395 non-null    object\n 1   Finish  395 non-null    object\n 2   Start   395 non-null    object\n 3   Driver  395 non-null    object\ndtypes: object(4)\nmemory usage: 15.4+ KB\n"
    }
   ],
   "source": [
    "df2017_sep15.info()\n",
    "df2017.info()"
   ]
  },
  {
   "cell_type": "markdown",
   "metadata": {},
   "source": [
    "#### Total Number of entries:\n",
    "- As of September 4th 2020\n",
    "- 2030"
   ]
  },
  {
   "cell_type": "code",
   "execution_count": 15,
   "metadata": {
    "tags": []
   },
   "outputs": [],
   "source": [
    "# df2017.info()\n",
    "# df2017_final.info()\n",
    "# df2017_sep22.info()\n",
    "# df2017_sept15.info()"
   ]
  },
  {
   "cell_type": "code",
   "execution_count": 16,
   "metadata": {
    "tags": []
   },
   "outputs": [
    {
     "output_type": "stream",
     "name": "stdout",
     "text": "2030\n"
    }
   ],
   "source": [
    "# df2016.info()\n",
    "# df2017.info()\n",
    "# df2018.info()\n",
    "# df2019.info()\n",
    "# df2020.info()\n",
    "# print(\"Total Entries\")\n",
    "print(len(df2016) + len(df2017) + len(df2018) + len(df2019) + len(df2020))"
   ]
  },
  {
   "cell_type": "markdown",
   "metadata": {},
   "source": [
    "### Save/ Read Yearly Race Results to csv"
   ]
  },
  {
   "cell_type": "code",
   "execution_count": 17,
   "metadata": {
    "tags": []
   },
   "outputs": [],
   "source": [
    "# Saving Race Results to csv\n",
    "# df2016.to_csv('df2016.csv')\n",
    "# df2017.to_csv('df2017.csv')\n",
    "# df2018.to_csv('df2018.csv')\n",
    "# df2019.to_csv('df2019.csv')\n",
    "# df2020.to_csv('df2020.csv')"
   ]
  },
  {
   "cell_type": "code",
   "execution_count": 18,
   "metadata": {},
   "outputs": [],
   "source": [
    "# Reading Yearly Race Results CSV\n",
    "# df2016 = pd.read_csv('df2016.csv', sep = \",\", index_col = 0)\n",
    "# df2017 = pd.read_csv('df2017.csv', sep = \",\", index_col = 0)\n",
    "# df2018 = pd.read_csv('df2018.csv', sep = \",\", index_col = 0)\n",
    "# df2019 = pd.read_csv('df2019.csv', sep = \",\", index_col = 0)\n",
    "# df2020 = pd.read_csv('df2020.csv', sep = \",\", index_col = 0)"
   ]
  },
  {
   "cell_type": "markdown",
   "metadata": {},
   "source": [
    "# Adding in Missing Dates for Races\n",
    "- 2016 Napa Fall Final\n",
    "- 2016 Napa Spring Sizzler\n",
    "- 2016 Sept. 2\n",
    "- 2017 Napa Fall Final # Already Fixed\n",
    "- 2017 Napa Spring Sizzler\n",
    "- 2018 Napa Fall Final\n",
    "- 2018 Spring Sizzler\n",
    "- 2019 Napa Fall Final\n",
    "- 2019 Napa Spring Sizzler # Alreact correct"
   ]
  },
  {
   "cell_type": "code",
   "execution_count": 19,
   "metadata": {},
   "outputs": [],
   "source": [
    "# 2016 Napa Fall Final\n",
    "df2016 = df2016.replace({'Title': '2016 NAPA Fall Final SK Modified® Feature'}, {\n",
    "    'Title': 'October 9, 2016 NAPA Fall Final SK Modified® Feature'})\n",
    "\n",
    "# 2016 Napa Spring Sizzler\n",
    "df2016 = df2016.replace({'Title': '2016 NAPA Spring Sizzler® SK Modified® Feature Results'}, {\n",
    "    'Title': 'April 24, 2016 NAPA Spring Sizzler® SK Modified® Feature Results'})\n",
    "\n",
    "# 2016 Septembre 2nd\n",
    "df2016 = df2016.replace({'Title': 'Sept. 2, 2016 VMRS 80 SK Modified Feature'}, {\n",
    "    'Title': 'September 2, 2016 VMRS 80 SK Modified Feature'})\n",
    "\n",
    "# 2017 Napa Spring Sizzler\n",
    "df2017 = df2017.replace({'Title': '2017 NAPA Spring Sizzler® SK Modified® Feature Results'}, {\n",
    "    'Title': 'April 30, 2017 NAPA Spring Sizzler® SK Modified® Feature Results'})\n",
    "\n",
    "# 2018 Napa Fall Final\n",
    "df2018 = df2018.replace({'Title': '2018 NAPA Fall Final SK Modified® Feature Results'}, {\n",
    "    'Title': 'September 30, 2018 NAPA Fall Final SK Modified® Feature Results'})\n",
    "\n",
    "# 2018 Napa Spring Sizzler\n",
    "df2018 = df2018.replace({'Title': '2018 NAPA Spring Sizzler® SK Modified® Feature Results'}, {\n",
    "    'Title': 'April 29, 2018 NAPA Spring Sizzler® SK Modified® Feature Results'})\n",
    "\n",
    "# 2019 Napa Fall Final\n",
    "df2019 = df2019.replace({'Title': '2019 NAPA Fall Final SK Modified® Feature Results'}, {\n",
    "    'Title': 'September 29, 2019 NAPA Fall Final SK Modified® Feature Results'})"
   ]
  },
  {
   "cell_type": "markdown",
   "metadata": {},
   "source": [
    "# Formatting Title Column"
   ]
  },
  {
   "cell_type": "code",
   "execution_count": 20,
   "metadata": {
    "tags": []
   },
   "outputs": [
    {
     "output_type": "stream",
     "name": "stdout",
     "text": "<class 'pandas.core.frame.DataFrame'>\nRangeIndex: 410 entries, 0 to 409\nData columns (total 4 columns):\n #   Column  Non-Null Count  Dtype \n---  ------  --------------  ----- \n 0   Title   410 non-null    object\n 1   Finish  410 non-null    object\n 2   Start   410 non-null    int64 \n 3   Driver  410 non-null    object\ndtypes: int64(1), object(3)\nmemory usage: 12.9+ KB\n"
    }
   ],
   "source": [
    "df2016.info()"
   ]
  },
  {
   "cell_type": "code",
   "execution_count": 21,
   "metadata": {
    "tags": []
   },
   "outputs": [],
   "source": [
    "# List of Dataframes\n",
    "df_list = [[df2016, '2016'], [df2017, '2017'], [df2018, '2018'], [df2019, '2019'], [df2020, '2020']]\n",
    "# year_list = ['2016', '2017', '2018', '2019', '2020']\n",
    "\n",
    "count = 0\n",
    "for i,j in df_list:\n",
    "    count += 1\n",
    "    # Cleanp symbols and formatting\n",
    "    i['Title'] = i['Title'].replace(r'®', r'', regex = True)\n",
    "    i['Title'] = i['Title'].replace(r'sk', r'SK', regex=True)\n",
    "    # print(i['Title'])\n",
    "\n",
    "    # Split SK Modified Feature from title column\n",
    "    df1 = i['Title'].str.rsplit('SK', expand = True, n=1)\n",
    "    df1[1] = 'SK' + df1[1]\n",
    "    # print(df1)\n",
    "\n",
    "    # Split Year from title column\n",
    "    df2 = df1[0].str.split(j, expand = True)\n",
    "    df2[0] = df2[0].astype(str) + j\n",
    "    # print(df2)\n",
    "\n",
    "    # Combine the dataframes and drop duplicate column\n",
    "    df3 = pd.concat([df2, df1, i], ignore_index=True, axis = 1).drop([2,4], axis = 1).rename(\n",
    "        columns={0: \"Date\", 1: \"Event\", 3: \"Feature\", 5: \"Finish\", 6: \"Start\", 7: \"Driver\"})\n",
    "   \n",
    "    if count == 1:\n",
    "        # df2016format = pd.DataFrame()\n",
    "        df2016format = df3\n",
    "    elif count == 2:\n",
    "        df2017format = df3\n",
    "    elif count == 3:\n",
    "        df2018format = df3\n",
    "    elif count == 4:\n",
    "        df2019format = df3\n",
    "    elif count == 5:\n",
    "        df2020format = df3\n",
    "    else:\n",
    "        print('error')\n"
   ]
  },
  {
   "cell_type": "code",
   "execution_count": 22,
   "metadata": {
    "tags": []
   },
   "outputs": [
    {
     "output_type": "stream",
     "name": "stdout",
     "text": "2030\n"
    }
   ],
   "source": [
    "# df2016format.info()\n",
    "# df2017format.info()\n",
    "# df2018format.info()\n",
    "# df2019format.info()\n",
    "# df2020format.info()\n",
    "print(len(df2016format) + len(df2017format) + len(df2018format) + len(df2019format) + + len(df2020format))"
   ]
  },
  {
   "cell_type": "markdown",
   "metadata": {},
   "source": [
    "# Combine Formatted Dataframes"
   ]
  },
  {
   "cell_type": "code",
   "execution_count": 23,
   "metadata": {
    "tags": []
   },
   "outputs": [
    {
     "output_type": "stream",
     "name": "stdout",
     "text": "<class 'pandas.core.frame.DataFrame'>\nRangeIndex: 2030 entries, 0 to 2029\nData columns (total 6 columns):\n #   Column   Non-Null Count  Dtype \n---  ------   --------------  ----- \n 0   Date     2030 non-null   object\n 1   Event    2030 non-null   object\n 2   Feature  2030 non-null   object\n 3   Finish   2030 non-null   object\n 4   Start    2030 non-null   object\n 5   Driver   2030 non-null   object\ndtypes: object(6)\nmemory usage: 95.3+ KB\n"
    }
   ],
   "source": [
    "# Combine dataframes\n",
    "sk = pd.concat([df2016format, df2017format, df2018format, df2019format, df2020format], ignore_index=True, axis = 0)\n",
    "# Save dataframes to csv\n",
    "# sk.to_csv('sk_formatted.csv')\n",
    "sk.info()\n",
    "# sk[100:150]"
   ]
  },
  {
   "cell_type": "markdown",
   "metadata": {},
   "source": [
    "# Finish formatting columns\n",
    "- Date column as date\n",
    "- Finish and Start as integer\n",
    "- Feature every row should be the same"
   ]
  },
  {
   "cell_type": "code",
   "execution_count": 24,
   "metadata": {},
   "outputs": [],
   "source": [
    "# sk = pd.read_csv('sk_formatted.csv', index_col= 0)"
   ]
  },
  {
   "cell_type": "markdown",
   "metadata": {},
   "source": [
    "### Create new column for Race Type"
   ]
  },
  {
   "cell_type": "code",
   "execution_count": 25,
   "metadata": {},
   "outputs": [],
   "source": [
    "# Insert new column for race type\n",
    "sk.insert(2, 'Race_Type', 'SK Modified Feature')\n",
    "# Remove old column with name mis matches\n",
    "sk.drop('Feature', axis=1, inplace=True)"
   ]
  },
  {
   "cell_type": "code",
   "execution_count": 26,
   "metadata": {},
   "outputs": [
    {
     "output_type": "execute_result",
     "data": {
      "text/plain": "Date         object\nEvent        object\nRace_Type    object\nFinish       object\nStart        object\nDriver       object\ndtype: object"
     },
     "metadata": {},
     "execution_count": 26
    }
   ],
   "source": [
    "sk.dtypes"
   ]
  },
  {
   "cell_type": "markdown",
   "metadata": {},
   "source": [
    "### Format Date Column as Date"
   ]
  },
  {
   "cell_type": "code",
   "execution_count": 27,
   "metadata": {},
   "outputs": [],
   "source": [
    "sk['Date'] =  pd.to_datetime(sk['Date'], format=\"%B %d, %Y\")"
   ]
  },
  {
   "cell_type": "markdown",
   "metadata": {},
   "source": [
    "### Sort Date Column in descending order"
   ]
  },
  {
   "cell_type": "code",
   "execution_count": 28,
   "metadata": {},
   "outputs": [],
   "source": [
    "sk = sk.sort_values(by=['Date'], ascending=False)"
   ]
  },
  {
   "cell_type": "code",
   "execution_count": 29,
   "metadata": {},
   "outputs": [
    {
     "output_type": "execute_result",
     "data": {
      "text/plain": "Date         datetime64[ns]\nEvent                object\nRace_Type            object\nFinish               object\nStart                object\nDriver               object\ndtype: object"
     },
     "metadata": {},
     "execution_count": 29
    }
   ],
   "source": [
    "sk.dtypes"
   ]
  },
  {
   "cell_type": "markdown",
   "metadata": {},
   "source": [
    "# Fixing Driver Names"
   ]
  },
  {
   "cell_type": "markdown",
   "metadata": {},
   "source": [
    "### Format driver and Rookie Columns"
   ]
  },
  {
   "cell_type": "code",
   "execution_count": 30,
   "metadata": {},
   "outputs": [],
   "source": [
    "# Remove \" - R\" from end of Driver Names to new column, considered Rookie year\n",
    "sk_rookie_format = sk['Driver'].str.rsplit(r' - ', expand=True)\n",
    "sk['Driver'] = sk_rookie_format[0]\n",
    "sk['Rookie'] = sk_rookie_format[1]"
   ]
  },
  {
   "cell_type": "markdown",
   "metadata": {},
   "source": [
    "#### Title case for driver names"
   ]
  },
  {
   "cell_type": "code",
   "execution_count": 31,
   "metadata": {},
   "outputs": [],
   "source": [
    "# Title case for drivers names\n",
    "sk['Driver'] = sk['Driver'].str.title()"
   ]
  },
  {
   "cell_type": "markdown",
   "metadata": {},
   "source": [
    "#### Removing whitespace from beginning and end of driver names"
   ]
  },
  {
   "cell_type": "code",
   "execution_count": 32,
   "metadata": {},
   "outputs": [],
   "source": [
    "# Removing extra whitespace\n",
    "sk.Driver = sk.Driver.str.strip()"
   ]
  },
  {
   "cell_type": "code",
   "execution_count": 33,
   "metadata": {},
   "outputs": [],
   "source": [
    "# sk"
   ]
  },
  {
   "cell_type": "markdown",
   "metadata": {},
   "source": [
    "### Fix Driver Name Misspellings "
   ]
  },
  {
   "cell_type": "code",
   "execution_count": 34,
   "metadata": {},
   "outputs": [
    {
     "output_type": "execute_result",
     "data": {
      "text/plain": "122"
     },
     "metadata": {},
     "execution_count": 34
    }
   ],
   "source": [
    "len(sk['Driver'].unique())"
   ]
  },
  {
   "cell_type": "code",
   "execution_count": 35,
   "metadata": {},
   "outputs": [],
   "source": [
    "# Dictionary of names that have misspellings\n",
    "di = {'Cam Mcdermott': 'Cam McDermott', \n",
    " 'DJ Burnham': 'D.J. Burnham', 'Dj Burnham': 'D.J. Burnham',\n",
    " 'David Salzarulo': 'Dave Salzarulo',\n",
    " 'Doug Meservey': 'Doug Meservey, Jr.',\n",
    " 'Ed Spiers': 'Eddy Spiers',  \n",
    " 'Joey Cipiano': 'Joey Cipriano, III', 'Joey Ciprianno': 'Joey Cipriano, III', 'Joey Cipriano': 'Joey Cipriano, III', 'Joey Cipriano, Iii': 'Joey Cipriano, III',\n",
    " 'Joey Mucciacchairo Jr.': 'Joey Mucciacciaro, Jr.', 'Joey Mucciacciaro': 'Joey Mucciacciaro, Jr.', 'Joey Muccicciaro':'Joey Mucciacciaro, Jr.', \n",
    " 'Joey Ternullo': 'Joey Ternullo, Jr.', \n",
    " 'John Cantana': 'John Catania',\n",
    " 'Matt Gallo': 'Matt Galko',\n",
    " 'Mike Benevides': 'Michael Benevides', \n",
    " 'Micheal Christopher, Jr.': 'Michael Christopher, Jr.', 'Mike Christohper, Jr.': 'Michael Christopher, Jr.', 'Mike Christopher, Jr.': 'Michael Christopher, Jr.', 'Michael Chistopher Jr.': 'Michael Christopher, Jr.',\n",
    " 'Michael Gervais': 'Michael Gervais, Jr.', 'Michael Gervais Jr.': 'Michael Gervais, Jr.', 'Michael Gervias, Jr.': 'Michael Gervais, Jr.',\n",
    " 'Rob Goulet': 'Robert Goulet', \n",
    " 'Ted Christohper': 'Ted Christopher', \n",
    " 'Tom Able, Jr.': 'Tom Abele, Jr.', \n",
    " 'Tommy Membrino Jr.': 'Tommy Membrino, Jr.',\n",
    " 'Tony Membrino Jr.': 'Tony Membrino, Jr.', 'Tony Membrino, Jr': 'Tony Membrino, Jr.'\n",
    " }\n",
    "\n",
    "# Mapping Misspelled Names to Drivers Column\n",
    "sk['Driver'] = sk['Driver'].map(di).fillna(sk['Driver'])"
   ]
  },
  {
   "cell_type": "code",
   "execution_count": 36,
   "metadata": {},
   "outputs": [
    {
     "output_type": "execute_result",
     "data": {
      "text/plain": "95"
     },
     "metadata": {},
     "execution_count": 36
    }
   ],
   "source": [
    "len(sk['Driver'].unique()) # Before was 123"
   ]
  },
  {
   "cell_type": "markdown",
   "metadata": {},
   "source": [
    "### Converting some columns\n",
    "- Finish to int"
   ]
  },
  {
   "cell_type": "code",
   "execution_count": 37,
   "metadata": {},
   "outputs": [],
   "source": [
    "# Finish Column\n",
    "# Replace 'DNS' to 0 representing DID NOT START\n",
    "sk['Finish'] = sk['Finish'].replace('DNS', '0')\n",
    "\n",
    "# Convert to string then to int\n",
    "sk['Finish'] = sk['Finish'].astype(str).astype(int)\n",
    "sk['Start'] = sk['Start'].astype(str).astype(int)"
   ]
  },
  {
   "cell_type": "code",
   "execution_count": 38,
   "metadata": {
    "tags": []
   },
   "outputs": [
    {
     "output_type": "stream",
     "name": "stdout",
     "text": "<class 'pandas.core.frame.DataFrame'>\nInt64Index: 2030 entries, 1814 to 383\nData columns (total 7 columns):\n #   Column     Non-Null Count  Dtype         \n---  ------     --------------  -----         \n 0   Date       2030 non-null   datetime64[ns]\n 1   Event      2030 non-null   object        \n 2   Race_Type  2030 non-null   object        \n 3   Finish     2030 non-null   int64         \n 4   Start      2030 non-null   int64         \n 5   Driver     2030 non-null   object        \n 6   Rookie     188 non-null    object        \ndtypes: datetime64[ns](1), int64(2), object(4)\nmemory usage: 126.9+ KB\n"
    }
   ],
   "source": [
    "sk.info()"
   ]
  },
  {
   "cell_type": "markdown",
   "metadata": {},
   "source": [
    "# Save Final sk df to csv"
   ]
  },
  {
   "cell_type": "code",
   "execution_count": 39,
   "metadata": {},
   "outputs": [],
   "source": [
    "sk.to_csv('sk_final.csv')"
   ]
  },
  {
   "cell_type": "code",
   "execution_count": 42,
   "metadata": {},
   "outputs": [],
   "source": [
    "# sk"
   ]
  }
 ]
}